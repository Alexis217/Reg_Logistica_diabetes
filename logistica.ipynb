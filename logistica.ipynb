{
 "cells": [
  {
   "cell_type": "markdown",
   "id": "e2e9f978",
   "metadata": {},
   "source": [
    "### Caso elegido para la Regresión Logística\n",
    "\n",
    "El caso es el de la diabetes del dataset de [Diabetes dataset](https://www.kaggle.com/datasets/mathchi/diabetes-data-set) de Kaggle.\n",
    "\n",
    "El objetivo es predecir si una persona tiene diabetes o no en base a las características de la persona."
   ]
  },
  {
   "cell_type": "markdown",
   "id": "c06c47ac",
   "metadata": {},
   "source": [
    "#### Importacion de librerias"
   ]
  },
  {
   "cell_type": "code",
   "execution_count": null,
   "id": "bc4dda8f",
   "metadata": {},
   "outputs": [],
   "source": [
    "import polars as pl\n",
    "import matplotlib.pyplot as plt\n",
    "from sklearn.model_selection import train_test_split\n",
    "from sklearn.linear_model import LogisticRegression\n",
    "from sklearn.metrics import accuracy_score"
   ]
  },
  {
   "cell_type": "markdown",
   "id": "5e0f6cb4",
   "metadata": {},
   "source": [
    "#### Carga del dataset e informacion de los datos"
   ]
  },
  {
   "cell_type": "code",
   "execution_count": null,
   "id": "304ab880",
   "metadata": {},
   "outputs": [],
   "source": [
    "df = pl.read_csv(\"diabetes.csv\")"
   ]
  },
  {
   "cell_type": "code",
   "execution_count": null,
   "id": "4691be12",
   "metadata": {},
   "outputs": [],
   "source": [
    "df.head()"
   ]
  },
  {
   "cell_type": "code",
   "execution_count": null,
   "id": "bad0fbdc",
   "metadata": {},
   "outputs": [],
   "source": [
    "df.describe()"
   ]
  },
  {
   "cell_type": "code",
   "execution_count": null,
   "id": "bbd55b69",
   "metadata": {},
   "outputs": [],
   "source": [
    "df.null_count()"
   ]
  },
  {
   "cell_type": "markdown",
   "id": "6eec6f27",
   "metadata": {},
   "source": [
    "#### Ahora entrenamos el modelo\n",
    "\n",
    "separar los datos"
   ]
  },
  {
   "cell_type": "code",
   "execution_count": null,
   "id": "be8e388a",
   "metadata": {},
   "outputs": [],
   "source": [
    "x = df.drop(['Outcome'])\n",
    "\n",
    "y = df['Outcome']"
   ]
  },
  {
   "cell_type": "markdown",
   "id": "a19f112d",
   "metadata": {},
   "source": [
    "convertir"
   ]
  },
  {
   "cell_type": "code",
   "execution_count": null,
   "id": "aa5f0449",
   "metadata": {},
   "outputs": [],
   "source": [
    "x_np = x.to_numpy()\n",
    "y_np = y.to_numpy()"
   ]
  },
  {
   "cell_type": "markdown",
   "id": "56af157a",
   "metadata": {},
   "source": [
    "dividir 80/20"
   ]
  },
  {
   "cell_type": "code",
   "execution_count": null,
   "id": "3db3f12d",
   "metadata": {},
   "outputs": [],
   "source": [
    "x_train, x_test, y_train, y_test = train_test_split(x_np, y_np, test_size=0.2, random_state=42)"
   ]
  },
  {
   "cell_type": "code",
   "execution_count": null,
   "id": "aae39820",
   "metadata": {},
   "outputs": [],
   "source": [
    "Model = LogisticRegression(solver='liblinear', max_iter=1000)\n",
    "Model.fit(x_train, y_train)"
   ]
  },
  {
   "cell_type": "code",
   "execution_count": null,
   "id": "1d13028e",
   "metadata": {},
   "outputs": [],
   "source": [
    "y_pred = Model.predict(x_test)\n",
    "accuracy = accuracy_score(y_test, y_pred)\n",
    "\n",
    "accuracy"
   ]
  },
  {
   "cell_type": "markdown",
   "id": "3add6790",
   "metadata": {},
   "source": [
    "#### Para la prediccion\n",
    "\n",
    "primero esta un paciente que no debe de tener diabetes."
   ]
  },
  {
   "cell_type": "code",
   "execution_count": null,
   "id": "691d5810",
   "metadata": {},
   "outputs": [],
   "source": [
    "nuevo_paciente_df = pl.DataFrame({\n",
    "    \"Pregnancies\": [3],\n",
    "    \"Glucose\": [130],\n",
    "    \"BloodPressure\": [80],\n",
    "    \"SkinThickness\": [25],\n",
    "    \"Insulin\": [100],\n",
    "    \"BMI\": [28.0],\n",
    "    \"DiabetesPedigreeFunction\": [0.5],\n",
    "    \"Age\": [35]\n",
    "})\n",
    "\n",
    "nuevo_paciente_np = nuevo_paciente_df.to_numpy()"
   ]
  },
  {
   "cell_type": "code",
   "execution_count": null,
   "id": "700f4f04",
   "metadata": {},
   "outputs": [],
   "source": [
    "prediccion = Model.predict(nuevo_paciente_np)\n",
    "\n",
    "if prediccion[0] == 1:\n",
    "    print(\"El paciente probablemente TIENE diabetes.\")\n",
    "else:\n",
    "    print(\"El paciente probablemente NO tiene diabetes.\")\n"
   ]
  },
  {
   "cell_type": "markdown",
   "id": "84da1007",
   "metadata": {},
   "source": [
    "#### Aca tenemos al que si tiene diabetes\n",
    "\n",
    "las causas para que tenga son:\n",
    "\n",
    "- Glucose muy alta\n",
    "- Insulin alta\n",
    "- BMI muy alta\n",
    "- DiabetesPedigreeFunction fuerte\n",
    "- age avanzada"
   ]
  },
  {
   "cell_type": "code",
   "execution_count": null,
   "id": "e594f4b3",
   "metadata": {},
   "outputs": [],
   "source": [
    "paciente_riesgoso_df = pl.DataFrame({\n",
    "    \"Pregnancies\": [8],\n",
    "    \"Glucose\": [170],     \n",
    "    \"BloodPressure\": [85],\n",
    "    \"SkinThickness\": [35],\n",
    "    \"Insulin\": [200], \n",
    "    \"BMI\": [38.5],        \n",
    "    \"DiabetesPedigreeFunction\": [1.2],  \n",
    "    \"Age\": [55]                \n",
    "})\n",
    "\n",
    "paciente_riesgoso_np = paciente_riesgoso_df.to_numpy()"
   ]
  },
  {
   "cell_type": "code",
   "execution_count": null,
   "id": "4a50750f",
   "metadata": {},
   "outputs": [],
   "source": [
    "prediccion = Model.predict(paciente_riesgoso_np)\n",
    "\n",
    "if prediccion[0] == 1:\n",
    "    print(\"Este paciente probablemente TIENE diabetes.\")\n",
    "else:\n",
    "    print(\"Este paciente probablemente NO tiene diabetes.\")"
   ]
  },
  {
   "cell_type": "markdown",
   "id": "ad1c95b6",
   "metadata": {},
   "source": [
    "#### Grafico"
   ]
  },
  {
   "cell_type": "code",
   "execution_count": null,
   "id": "882f1d16",
   "metadata": {},
   "outputs": [],
   "source": [
    "i_glucose = 1\n",
    "i_bmi = 5\n",
    "\n",
    "\n",
    "plt.figure(figsize=(10, 5))\n",
    "\n",
    "plt.subplot(1, 2, 1)\n",
    "for clase in [0, 1]:\n",
    "    idx = y_train == clase\n",
    "    plt.scatter(x_train[idx, i_glucose], x_train[idx, i_bmi], label=f\"Clase {clase}\", alpha=0.7)\n",
    "plt.title(\"Datos reales (entrenamiento)\")\n",
    "plt.xlabel(\"Glucosa\")\n",
    "plt.ylabel(\"IMC\")\n",
    "plt.legend()\n",
    "\n",
    "\n",
    "plt.subplot(1, 2, 2)\n",
    "y_pred = Model.predict(x_test)\n",
    "for clase in [0, 1]:\n",
    "    idx = y_pred == clase\n",
    "    plt.scatter(x_test[idx, i_glucose], x_test[idx, i_bmi], label=f\"Predicción {clase}\", alpha=0.7)\n",
    "plt.title(\"Predicciones del modelo (prueba)\")\n",
    "plt.xlabel(\"Glucosa\")\n",
    "plt.ylabel(\"IMC\")\n",
    "plt.legend()\n",
    "\n",
    "plt.tight_layout()\n",
    "plt.show()"
   ]
  }
 ],
 "metadata": {
  "kernelspec": {
   "display_name": ".venv",
   "language": "python",
   "name": "python3"
  },
  "language_info": {
   "codemirror_mode": {
    "name": "ipython",
    "version": 3
   },
   "file_extension": ".py",
   "mimetype": "text/x-python",
   "name": "python",
   "nbconvert_exporter": "python",
   "pygments_lexer": "ipython3",
   "version": "3.13.2"
  }
 },
 "nbformat": 4,
 "nbformat_minor": 5
}
